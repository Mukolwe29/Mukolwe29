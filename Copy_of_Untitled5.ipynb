{
  "nbformat": 4,
  "nbformat_minor": 0,
  "metadata": {
    "colab": {
      "provenance": [],
      "authorship_tag": "ABX9TyPCh/Snhenw01HrWISGUZgF",
      "include_colab_link": true
    },
    "kernelspec": {
      "name": "python3",
      "display_name": "Python 3"
    },
    "language_info": {
      "name": "python"
    }
  },
  "cells": [
    {
      "cell_type": "markdown",
      "metadata": {
        "id": "view-in-github",
        "colab_type": "text"
      },
      "source": [
        "<a href=\"https://colab.research.google.com/github/Mukolwe29/Mukolwe29/blob/main/Copy_of_Untitled5.ipynb\" target=\"_parent\"><img src=\"https://colab.research.google.com/assets/colab-badge.svg\" alt=\"Open In Colab\"/></a>"
      ]
    },
    {
      "cell_type": "markdown",
      "source": [
        "#**Basic Operations**\n"
      ],
      "metadata": {
        "id": "c30I2KRIeedF"
      }
    },
    {
      "cell_type": "markdown",
      "source": [
        "Python supports a variety of basic operations that you can perform on different data types. These include arithmetic operations, string operations, and logical operations."
      ],
      "metadata": {
        "id": "tOmj-IRZerzD"
      }
    },
    {
      "cell_type": "markdown",
      "source": [
        "## Arithmetic Operations"
      ],
      "metadata": {
        "id": "FqIaGbf2e52Q"
      }
    },
    {
      "cell_type": "code",
      "source": [
        "a = 10\n",
        "b = 3\n",
        "\n",
        "# Addition\n",
        "sum_result = a + b  # 13\n",
        "\n",
        "# Subtraction\n",
        "difference_result = a - b  # 7\n",
        "\n",
        "# Multiplication\n",
        "product_result = a * b  # 30\n",
        "\n",
        "# Division\n",
        "division_result = a / b  # 3.333...\n",
        "\n",
        "# Modulus (remainder)\n",
        "modulus_result = a % b  # 1\n",
        "\n",
        "# Exponentiation\n",
        "power_result = a ** b  # 1000\n"
      ],
      "metadata": {
        "id": "By5rOJwOehmU"
      },
      "execution_count": null,
      "outputs": []
    },
    {
      "cell_type": "markdown",
      "source": [
        "## String Operations\n",
        "\n",
        "\n",
        "\n"
      ],
      "metadata": {
        "id": "wyyoqDnwfntS"
      }
    },
    {
      "cell_type": "markdown",
      "source": [
        "Concatenation (+), String Length (len()), String Methods"
      ],
      "metadata": {
        "id": "pMf8OLpaftQ2"
      }
    },
    {
      "cell_type": "code",
      "source": [
        "str1 = \"end\"\n",
        "str2 = \"femicide\"\n",
        "\n",
        "# Concatenation\n",
        "concatenation_result = str1 + \", \" + str2  # \"end, femicide\"\n",
        "\n",
        "# String Length\n",
        "string_length = len(concatenation_result)  # 13\n",
        "\n",
        "# String Methods\n",
        "uppercase_result = concatenation_result.upper()  # \"HELLO, WORLD\"\n",
        "lowercase_result = concatenation_result.lower()  # \"hello, world\"\n"
      ],
      "metadata": {
        "id": "nBhbkpx7fpNT"
      },
      "execution_count": null,
      "outputs": []
    },
    {
      "cell_type": "code",
      "source": [
        "concatenation_result\n",
        "uppercase_result\n",
        "lowercase_result\n"
      ],
      "metadata": {
        "colab": {
          "base_uri": "https://localhost:8080/",
          "height": 35
        },
        "id": "CRltSEKFf-nW",
        "outputId": "ccd7ab54-b121-4d5a-afb1-831794676bd7"
      },
      "execution_count": null,
      "outputs": [
        {
          "output_type": "execute_result",
          "data": {
            "text/plain": [
              "'hello, world'"
            ],
            "application/vnd.google.colaboratory.intrinsic+json": {
              "type": "string"
            }
          },
          "metadata": {},
          "execution_count": 5
        }
      ]
    },
    {
      "cell_type": "markdown",
      "source": [
        "## Comparison and Logical Operations\n"
      ],
      "metadata": {
        "id": "VGdsMmLUgVNR"
      }
    },
    {
      "cell_type": "markdown",
      "source": [
        "Comparison Operators (<, <=, >, >=, ==, !=), Logical Operators (and, or, not):"
      ],
      "metadata": {
        "id": "AMWbVK3-h9T6"
      }
    },
    {
      "cell_type": "code",
      "source": [
        "x = 5\n",
        "y = 10\n",
        "\n",
        "# Comparison\n",
        "is_greater = x > y  # False\n",
        "is_equal = x == y  # False\n",
        "\n",
        "# Logical\n",
        "logical_and_result = is_greater and is_equal  # False\n",
        "logical_or_result = is_greater or is_equal  # False\n",
        "logical_not_result = not is_greater  # True\n"
      ],
      "metadata": {
        "id": "4-3BbZw4iArT"
      },
      "execution_count": null,
      "outputs": []
    }
  ]
}