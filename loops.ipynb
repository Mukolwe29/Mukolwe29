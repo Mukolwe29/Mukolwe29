{
  "nbformat": 4,
  "nbformat_minor": 0,
  "metadata": {
    "colab": {
      "provenance": [],
      "authorship_tag": "ABX9TyPbUbhDaVkAPbFoqdJe2PS9",
      "include_colab_link": true
    },
    "kernelspec": {
      "name": "python3",
      "display_name": "Python 3"
    },
    "language_info": {
      "name": "python"
    }
  },
  "cells": [
    {
      "cell_type": "markdown",
      "metadata": {
        "id": "view-in-github",
        "colab_type": "text"
      },
      "source": [
        "<a href=\"https://colab.research.google.com/github/Mukolwe29/Mukolwe29/blob/main/loops.ipynb\" target=\"_parent\"><img src=\"https://colab.research.google.com/assets/colab-badge.svg\" alt=\"Open In Colab\"/></a>"
      ]
    },
    {
      "cell_type": "markdown",
      "source": [
        "# **While** **Loops**\n"
      ],
      "metadata": {
        "id": "dhp0mIOMC44F"
      }
    },
    {
      "cell_type": "markdown",
      "source": [
        "## Python While Loop"
      ],
      "metadata": {
        "id": "AxGoiSgkDVs4"
      }
    },
    {
      "cell_type": "code",
      "source": [
        "count = 0\n",
        "while count < 5:\n",
        "  print(f'our count is {count}.')\n",
        "  count +=1"
      ],
      "metadata": {
        "colab": {
          "base_uri": "https://localhost:8080/"
        },
        "id": "sKNoTZF-MIvn",
        "outputId": "ddef3d5d-16ab-479d-a508-746a90b98b35"
      },
      "execution_count": 3,
      "outputs": [
        {
          "output_type": "stream",
          "name": "stdout",
          "text": [
            "our count is 0.\n",
            "our count is 1.\n",
            "our count is 2.\n",
            "our count is 3.\n",
            "our count is 4.\n"
          ]
        }
      ]
    },
    {
      "cell_type": "code",
      "source": [
        "# Python program to illustrate\n",
        "# while loop\n",
        "count = 0\n",
        "while (count < 3):\n",
        "    count = count + 1\n",
        "    print(\"Hello scientists\")\n"
      ],
      "metadata": {
        "colab": {
          "base_uri": "https://localhost:8080/"
        },
        "id": "Kv22L_7FDebi",
        "outputId": "b6edeb16-78b7-45a1-946a-b453c23feb9d"
      },
      "execution_count": 1,
      "outputs": [
        {
          "output_type": "stream",
          "name": "stdout",
          "text": [
            "Hello scientists\n",
            "Hello scientists\n",
            "Hello scientists\n"
          ]
        }
      ]
    },
    {
      "cell_type": "markdown",
      "source": [
        "##Python while loop with continue statement\n"
      ],
      "metadata": {
        "id": "ae940uX9EEdq"
      }
    },
    {
      "cell_type": "code",
      "source": [
        "# Prints all letters except 'e' and 's'\n",
        "i = 0\n",
        "a = 'datascience'\n",
        "\n",
        "while i < len(a):\n",
        "    if a[i] == 'e' or a[i] == 's':\n",
        "        i += 1\n",
        "        continue\n",
        "\n",
        "    print('Current Letter :', a[i])\n",
        "    i += 1\n"
      ],
      "metadata": {
        "colab": {
          "base_uri": "https://localhost:8080/"
        },
        "id": "dDNf9DQPEQWB",
        "outputId": "455399ca-8975-4cea-a224-bff2d77d948c"
      },
      "execution_count": 4,
      "outputs": [
        {
          "output_type": "stream",
          "name": "stdout",
          "text": [
            "Current Letter : d\n",
            "Current Letter : a\n",
            "Current Letter : t\n",
            "Current Letter : a\n",
            "Current Letter : c\n",
            "Current Letter : i\n",
            "Current Letter : n\n",
            "Current Letter : c\n"
          ]
        }
      ]
    },
    {
      "cell_type": "markdown",
      "source": [
        "# Python while loop with a break statement\n"
      ],
      "metadata": {
        "id": "mswhq8GkEjCx"
      }
    },
    {
      "cell_type": "code",
      "source": [
        "# break the loop as soon it sees 'e'\n",
        "# or 's'\n",
        "i = 0\n",
        "a = 'data science'\n",
        "\n",
        "while i < len(a):\n",
        "    if a[i] == 'e' or a[i] == 's':\n",
        "        i += 1\n",
        "        break\n",
        "\n",
        "    print('Current Letter :', a[i])\n",
        "    i += 1\n"
      ],
      "metadata": {
        "colab": {
          "base_uri": "https://localhost:8080/"
        },
        "id": "jYwvVgMvEt6G",
        "outputId": "ace720aa-d365-4267-e699-477de301c593"
      },
      "execution_count": 5,
      "outputs": [
        {
          "output_type": "stream",
          "name": "stdout",
          "text": [
            "Current Letter : d\n",
            "Current Letter : a\n",
            "Current Letter : t\n",
            "Current Letter : a\n",
            "Current Letter :  \n"
          ]
        }
      ]
    },
    {
      "cell_type": "markdown",
      "source": [
        "## Python while loop with a pass statement"
      ],
      "metadata": {
        "id": "zu5aQcBpE0Cx"
      }
    },
    {
      "cell_type": "code",
      "source": [
        "# An empty loop\n",
        "a = 'end femicide'\n",
        "i = 0\n",
        "\n",
        "while i < len(a):\n",
        "    i += 1\n",
        "    pass\n",
        "\n",
        "print('Value of i :', i)\n"
      ],
      "metadata": {
        "colab": {
          "base_uri": "https://localhost:8080/"
        },
        "id": "uR5RTpsbE3eU",
        "outputId": "d9275b4f-10ae-4273-8a55-a6cb893f9afe"
      },
      "execution_count": 6,
      "outputs": [
        {
          "output_type": "stream",
          "name": "stdout",
          "text": [
            "Value of i : 12\n"
          ]
        }
      ]
    },
    {
      "cell_type": "markdown",
      "source": [
        "## While loop with else"
      ],
      "metadata": {
        "id": "K9RNc2xzFDxx"
      }
    },
    {
      "cell_type": "code",
      "source": [
        "# Python program to demonstrate\n",
        "# while-else loop\n",
        "\n",
        "i = 0\n",
        "while i < 4:\n",
        "    i += 1\n",
        "    print(i)\n",
        "else:  # Executed because no break in for\n",
        "    print(\"No Break\\n\")\n",
        "\n",
        "i = 0\n",
        "while i < 4:\n",
        "    i += 1\n",
        "    print(i)\n",
        "    break\n",
        "else:  # Not executed as there is a break\n",
        "    print(\"No Break\")\n"
      ],
      "metadata": {
        "colab": {
          "base_uri": "https://localhost:8080/"
        },
        "id": "Zn3nmJM0FJOl",
        "outputId": "96a6faae-103a-4dd7-f0a3-08bcb097edc8"
      },
      "execution_count": 7,
      "outputs": [
        {
          "output_type": "stream",
          "name": "stdout",
          "text": [
            "1\n",
            "2\n",
            "3\n",
            "4\n",
            "No Break\n",
            "\n",
            "1\n"
          ]
        }
      ]
    },
    {
      "cell_type": "markdown",
      "source": [
        "# Python while loop with a break statement"
      ],
      "metadata": {
        "id": "7iWvLeLmJTGT"
      }
    },
    {
      "cell_type": "code",
      "source": [
        "# break the loop as soon it sees 'e'\n",
        "# or 's'\n",
        "i = 0\n",
        "a = 'data science'\n",
        "\n",
        "while i < len(a):\n",
        "    if a[i] == 'e' or a[i] == 's':\n",
        "        i += 1\n",
        "        break\n",
        "\n",
        "    print('Current Letter :', a[i])\n",
        "    i += 1\n"
      ],
      "metadata": {
        "colab": {
          "base_uri": "https://localhost:8080/"
        },
        "id": "TT6eRs1WJV51",
        "outputId": "9e2e7d34-8563-46a9-d430-714abce4595f"
      },
      "execution_count": 2,
      "outputs": [
        {
          "output_type": "stream",
          "name": "stdout",
          "text": [
            "Current Letter : d\n",
            "Current Letter : a\n",
            "Current Letter : t\n",
            "Current Letter : a\n",
            "Current Letter :  \n"
          ]
        }
      ]
    }
  ]
}